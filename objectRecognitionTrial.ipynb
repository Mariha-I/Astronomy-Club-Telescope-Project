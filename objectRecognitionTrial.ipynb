{
 "cells": [
  {
   "cell_type": "code",
   "execution_count": null,
   "metadata": {},
   "outputs": [
    {
     "name": "stdout",
     "output_type": "stream",
     "text": [
      "Downloading data from https://storage.googleapis.com/tensorflow/keras-applications/mobilenet_v2/mobilenet_v2_weights_tf_dim_ordering_tf_kernels_1.0_224.h5\n",
      "\u001b[1m14536120/14536120\u001b[0m \u001b[32m━━━━━━━━━━━━━━━━━━━━\u001b[0m\u001b[37m\u001b[0m \u001b[1m1s\u001b[0m 0us/step\n",
      "\u001b[1m1/1\u001b[0m \u001b[32m━━━━━━━━━━━━━━━━━━━━\u001b[0m\u001b[37m\u001b[0m \u001b[1m2s\u001b[0m 2s/step\n",
      "Downloading data from https://storage.googleapis.com/download.tensorflow.org/data/imagenet_class_index.json\n",
      "\u001b[1m35363/35363\u001b[0m \u001b[32m━━━━━━━━━━━━━━━━━━━━\u001b[0m\u001b[37m\u001b[0m \u001b[1m0s\u001b[0m 1us/step\n",
      "Predicted subject: rugby_ball with confidence: 0.14667393267154694\n"
     ]
    }
   ],
   "source": [
    "import tensorflow as tf\n",
    "import cv2\n",
    "import numpy as np\n",
    "\n",
    "model = tf.keras.applications.MobileNetV2(weights='imagenet')\n",
    "\n",
    "def preprocess_image(image_path):\n",
    "    # Load the image\n",
    "    img = cv2.imread(image_path)\n",
    "\n",
    "    # Resize the image to fit the model's expected input size\n",
    "    img_resized = cv2.resize(img, (224, 224)) # MobileNetV2 expects 224x224\n",
    "\n",
    "    # Convert image to RGB (OpenCV loads images in BGR format)\n",
    "    img_rgb = cv2.cvtColor(img_resized, cv2.COLOR_BGR2RGB)\n",
    "\n",
    "    #Preprocess for MobileNetV2 (which expects images to be scaled)\n",
    "    img_preprocessed = tf.keras.applications.mobilenet_v2.preprocess_input(img_rgb)\n",
    "\n",
    "    # Expand dimensions to match model input shape (batch size, height, width, channels)\n",
    "    img_expanded = np.expand_dims(img_preprocessed, axis=0)\n",
    "\n",
    "    return img_expanded\n",
    "\n",
    "def predict_image(image_path):\n",
    "    img = preprocess_image(image_path)\n",
    "\n",
    "    # Get model predictions\n",
    "    predictions = model.predict(img)\n",
    "\n",
    "    #Decode the predictions to human readable labels\n",
    "    decoded_predictions = tf.keras.applications.mobilenet_v2.decode_predictions(predictions)\n",
    "\n",
    "    #output top prediction\n",
    "    return decoded_predictions[0][0][1], decoded_predictions[0][0][2] # Label and confidence\n",
    "\n",
    "image_path = \"path_to_your_image.jpg\" # Replace this text with your image path\n",
    "label, confidence = predict_image(image_path)\n",
    "print(f\"Predicted subject: {label} with confidence: {confidence}\")\n"
   ]
  }
 ],
 "metadata": {
  "kernelspec": {
   "display_name": "Python 3",
   "language": "python",
   "name": "python3"
  },
  "language_info": {
   "codemirror_mode": {
    "name": "ipython",
    "version": 3
   },
   "file_extension": ".py",
   "mimetype": "text/x-python",
   "name": "python",
   "nbconvert_exporter": "python",
   "pygments_lexer": "ipython3",
   "version": "3.10.11"
  }
 },
 "nbformat": 4,
 "nbformat_minor": 2
}
